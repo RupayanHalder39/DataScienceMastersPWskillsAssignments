{
  "nbformat": 4,
  "nbformat_minor": 0,
  "metadata": {
    "colab": {
      "provenance": []
    },
    "kernelspec": {
      "name": "python3",
      "display_name": "Python 3"
    },
    "language_info": {
      "name": "python"
    }
  },
  "cells": [
    {
      "cell_type": "markdown",
      "source": [
        "**Q1. How do you comment code in Python? What are the different types of comments?**"
      ],
      "metadata": {
        "id": "C0ReMwGsaMe2"
      }
    },
    {
      "cell_type": "code",
      "source": [
        "#1. single line comments:\n",
        "#x=5\n",
        "\n",
        "#2. Multi line comments:\n",
        "\"\"\"\n",
        "abcd\n",
        "efgh\n",
        "\"\"\"\n",
        "\n",
        "#in google colab multi line comments method doesn't support"
      ],
      "metadata": {
        "id": "DVr1lM3ubgTM"
      },
      "execution_count": null,
      "outputs": []
    },
    {
      "cell_type": "markdown",
      "source": [
        "**Q2. What are variables in Python? How do you declare and assign values to variables?**\n",
        "\n",
        "A variable in Python is like a labeled container that holds different things (numbers, words, etc.). It helps us remember and use these things later by their labels."
      ],
      "metadata": {
        "id": "LVUxmNJFcaf8"
      }
    },
    {
      "cell_type": "code",
      "source": [
        "#declaring variables\n",
        "a=5\n",
        "b=5.6\n",
        "c=\"Jadavpur\""
      ],
      "metadata": {
        "id": "-LqVQ0BkbtR9"
      },
      "execution_count": null,
      "outputs": []
    },
    {
      "cell_type": "markdown",
      "source": [
        "**Q3. How do you convert one data type to another in Python?**"
      ],
      "metadata": {
        "id": "E5PzNSQ0dIhs"
      }
    },
    {
      "cell_type": "code",
      "source": [
        "#converting integer to a float\n",
        "x=5\n",
        "print(\"Intial Type of variable x: \",type(x))\n",
        "x=float(x)\n",
        "print(\"after type conversion variable is:\",x)\n",
        "print(\"Type of variable x: \",type(x))"
      ],
      "metadata": {
        "colab": {
          "base_uri": "https://localhost:8080/"
        },
        "id": "DjoMgYF0dFS9",
        "outputId": "91ed8b53-13a6-408c-b2a9-0fb77ea85fed"
      },
      "execution_count": 20,
      "outputs": [
        {
          "output_type": "stream",
          "name": "stdout",
          "text": [
            "Intial Type of variable x:  <class 'int'>\n",
            "after type conversion variable is: 5.0\n",
            "Type of variable x:  <class 'float'>\n"
          ]
        }
      ]
    },
    {
      "cell_type": "markdown",
      "source": [
        "**Q4. How do you write and execute a Python script from the command line?**"
      ],
      "metadata": {
        "id": "eiNa8S0ed6sd"
      }
    },
    {
      "cell_type": "code",
      "source": [],
      "metadata": {
        "id": "2jfpIgmkd-3e"
      },
      "execution_count": null,
      "outputs": []
    },
    {
      "cell_type": "markdown",
      "source": [
        "**Q5. Given a list my_list = [1, 2, 3, 4, 5], write the code to slice the list and obtain the sub-list [2, 3].**"
      ],
      "metadata": {
        "id": "a2IXuYOseJVb"
      }
    },
    {
      "cell_type": "code",
      "source": [
        "my_list=[1,2,3,4,5]\n",
        "my_list[1:3]"
      ],
      "metadata": {
        "colab": {
          "base_uri": "https://localhost:8080/"
        },
        "id": "jCMM_Ke6eNxw",
        "outputId": "f0f88f2d-9b53-4022-a480-2693dcf35601"
      },
      "execution_count": 22,
      "outputs": [
        {
          "output_type": "execute_result",
          "data": {
            "text/plain": [
              "[2, 3]"
            ]
          },
          "metadata": {},
          "execution_count": 22
        }
      ]
    },
    {
      "cell_type": "markdown",
      "source": [
        "**Q6. What is a complex number in mathematics, and how is it represented in Python?**"
      ],
      "metadata": {
        "id": "Y6fcKCWBe2KC"
      }
    },
    {
      "cell_type": "code",
      "source": [
        "#A complex number is a number that consists of two parts: a real part and an imaginary part.\n",
        "#It is written in the form \"a + bi,\"\n",
        "#where \"a\" represents the real part,\n",
        "# \"b\" represents the imaginary part, and\n",
        "# \"i\" represents the imaginary unit (√-1).\n",
        "a=5+6j\n",
        "type(a)"
      ],
      "metadata": {
        "colab": {
          "base_uri": "https://localhost:8080/"
        },
        "id": "JGKDcMlZe55u",
        "outputId": "4ecbe8be-7b44-444d-fd2c-3fc707aa169e"
      },
      "execution_count": 23,
      "outputs": [
        {
          "output_type": "execute_result",
          "data": {
            "text/plain": [
              "complex"
            ]
          },
          "metadata": {},
          "execution_count": 23
        }
      ]
    },
    {
      "cell_type": "markdown",
      "source": [
        "**Q7. What is the correct way to declare a variable named age and assign the value 25 to it?**"
      ],
      "metadata": {
        "id": "foGhHDpofh7j"
      }
    },
    {
      "cell_type": "code",
      "source": [
        "age=25"
      ],
      "metadata": {
        "id": "HTGOwEv1fkSU"
      },
      "execution_count": 24,
      "outputs": []
    },
    {
      "cell_type": "markdown",
      "source": [
        "**Q8. Declare a variable named price and assign the value 9.99 to it. What data type does this variable\n",
        "belong to?**"
      ],
      "metadata": {
        "id": "WUXbhMR3fs08"
      }
    },
    {
      "cell_type": "code",
      "source": [
        "price=9.99\n",
        "type(price)"
      ],
      "metadata": {
        "colab": {
          "base_uri": "https://localhost:8080/"
        },
        "id": "5_X8q2lzfvJD",
        "outputId": "f8a63e74-8f92-4ea8-c857-a2cc23c71afd"
      },
      "execution_count": 25,
      "outputs": [
        {
          "output_type": "execute_result",
          "data": {
            "text/plain": [
              "float"
            ]
          },
          "metadata": {},
          "execution_count": 25
        }
      ]
    },
    {
      "cell_type": "markdown",
      "source": [
        "**Q9. Create a variable named name and assign your full name to it as a string. How would you print the\n",
        "value of this variable?**"
      ],
      "metadata": {
        "id": "CSgmEMuxf8jP"
      }
    },
    {
      "cell_type": "code",
      "source": [
        "name=\"Rupayan Halder\"\n",
        "print(\"Name is:\",name)"
      ],
      "metadata": {
        "colab": {
          "base_uri": "https://localhost:8080/"
        },
        "id": "pP0dJfsYf7r1",
        "outputId": "adb58bae-3ba4-41ce-8251-175dc090a97f"
      },
      "execution_count": 26,
      "outputs": [
        {
          "output_type": "stream",
          "name": "stdout",
          "text": [
            "Name is: Rupayan Halder\n"
          ]
        }
      ]
    },
    {
      "cell_type": "markdown",
      "source": [
        "**Q10. Given the string \"Hello, World!\", extract the substring \"World\".**"
      ],
      "metadata": {
        "id": "2tQNitSvgOqZ"
      }
    },
    {
      "cell_type": "code",
      "source": [
        "s=\"Hello, World!\"\n",
        "s[7:12]"
      ],
      "metadata": {
        "colab": {
          "base_uri": "https://localhost:8080/",
          "height": 36
        },
        "id": "aEQRr5bfgN3g",
        "outputId": "91deca80-fb80-4bb0-91e7-f1c3ae00badc"
      },
      "execution_count": 35,
      "outputs": [
        {
          "output_type": "execute_result",
          "data": {
            "text/plain": [
              "'World'"
            ],
            "application/vnd.google.colaboratory.intrinsic+json": {
              "type": "string"
            }
          },
          "metadata": {},
          "execution_count": 35
        }
      ]
    },
    {
      "cell_type": "markdown",
      "source": [
        "**Q11. Create a variable named \"is_student\" and assign it a boolean value indicating whether you are\n",
        "currently a student or not.**"
      ],
      "metadata": {
        "id": "x1LaaBqWg-iZ"
      }
    },
    {
      "cell_type": "code",
      "source": [
        "is_student=True\n",
        "#I am a m.tech student in jadavpur"
      ],
      "metadata": {
        "id": "lB89W6SahBKH"
      },
      "execution_count": 36,
      "outputs": []
    }
  ]
}