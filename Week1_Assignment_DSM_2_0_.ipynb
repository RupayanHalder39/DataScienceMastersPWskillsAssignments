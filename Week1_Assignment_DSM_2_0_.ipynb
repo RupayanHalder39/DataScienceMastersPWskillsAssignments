{
  "nbformat": 4,
  "nbformat_minor": 0,
  "metadata": {
    "colab": {
      "provenance": []
    },
    "kernelspec": {
      "name": "python3",
      "display_name": "Python 3"
    },
    "language_info": {
      "name": "python"
    }
  },
  "cells": [
    {
      "cell_type": "markdown",
      "source": [
        "Q1. Create one variable containing following type of data:\n",
        "\n",
        "(i)\tstring\n",
        "\n",
        "(ii)\tlist\n",
        "\n",
        "(iii)\tfloat\n",
        "\n",
        "(iv)\ttuple"
      ],
      "metadata": {
        "id": "oAeyf3k7Lydy"
      }
    },
    {
      "cell_type": "code",
      "source": [
        "#string type:\n",
        "s=\"jadavpur University\"\n",
        "print(\"type of s:\",type(s))\n",
        "\n",
        "#list type:\n",
        "l=[1,2,3.5,\"abc\"]\n",
        "print(\"type of l:\",type(l))\n",
        "\n",
        "#float type:\n",
        "f=3.789\n",
        "print(\"type of f:\",type(f))\n",
        "\n",
        "#tuple type:\n",
        "t=(1,2,3,'abc')\n",
        "print(\"type of t:\",type(t))"
      ],
      "metadata": {
        "colab": {
          "base_uri": "https://localhost:8080/"
        },
        "id": "XGPEvqYhMGOs",
        "outputId": "d1cc6613-a7e1-4ce3-b279-dc6b3caedb92"
      },
      "execution_count": 2,
      "outputs": [
        {
          "output_type": "stream",
          "name": "stdout",
          "text": [
            "type of s: <class 'str'>\n",
            "type of l: <class 'list'>\n",
            "type of f: <class 'float'>\n",
            "type of t: <class 'tuple'>\n"
          ]
        }
      ]
    },
    {
      "cell_type": "markdown",
      "source": [
        "Q2. Given are some following variables containing data:\n",
        "\n",
        "(i)\tvar1 = ‘ ‘\n",
        "\n",
        "(ii)\tvar2 = ‘[ DS , ML , Python]’\n",
        "\n",
        "(iii)\tvar3 = [ ‘DS’ , ’ML’ , ‘Python’ ]\n",
        "\n",
        "(iv)\tvar4 = 1.\n",
        "\n",
        "What will be the data type of the above given variable."
      ],
      "metadata": {
        "id": "XNxr8D2tL1Ay"
      }
    },
    {
      "cell_type": "code",
      "execution_count": 3,
      "metadata": {
        "colab": {
          "base_uri": "https://localhost:8080/"
        },
        "id": "9zX1ptiYLReM",
        "outputId": "77bccb30-3ddd-46fa-ad76-96656a78b0a5"
      },
      "outputs": [
        {
          "output_type": "stream",
          "name": "stdout",
          "text": [
            "type of var1='' is= <class 'str'>\n",
            "type of var2='[ DS , ML , Python]' is= <class 'str'>\n",
            "type of var3=['DS' , 'ML' , 'Python'] is= <class 'list'>\n",
            "type of var4=1 is= <class 'int'>\n"
          ]
        }
      ],
      "source": [
        "var1=''\n",
        "var2='[ DS , ML , Python]'\n",
        "var3=['DS' , 'ML' , 'Python']\n",
        "var4 = 1\n",
        "print(\"type of var1='' is=\",type(var1))\n",
        "print(\"type of var2='[ DS , ML , Python]' is=\",type(var2))\n",
        "print(\"type of var3=['DS' , 'ML' , 'Python'] is=\",type(var3))\n",
        "print(\"type of var4=1 is=\",type(var4))"
      ]
    },
    {
      "cell_type": "markdown",
      "source": [
        "Q3. Explain the use of the following operators using an example:\n",
        "\n",
        "(i)\t/\n",
        "\n",
        "(ii)\t%\n",
        "\n",
        "(iii)\t//\n",
        "\n",
        "(iv)\t**"
      ],
      "metadata": {
        "id": "ZCYOooYBLwnd"
      }
    },
    {
      "cell_type": "code",
      "source": [
        "a=3.0\n",
        "b=2.0\n",
        "print(\"a / b =\",(a/b))\n",
        "print(\"a % b =\",(a%b))\n",
        "print(\"a // b =\",(a//b))\n",
        "print(\"a ** b =\",(a**b))"
      ],
      "metadata": {
        "colab": {
          "base_uri": "https://localhost:8080/"
        },
        "id": "8lBAtpNARp-S",
        "outputId": "d5ad1c88-d0d0-409b-f7eb-ab1b4e4fb8bd"
      },
      "execution_count": 4,
      "outputs": [
        {
          "output_type": "stream",
          "name": "stdout",
          "text": [
            "a / b = 1.5\n",
            "a % b = 1.0\n",
            "a // b = 1.0\n",
            "a ** b = 9.0\n"
          ]
        }
      ]
    },
    {
      "cell_type": "markdown",
      "source": [
        "Q4. Create a list of length 10 of your choice containing multiple types of data. Using for loop print the\n",
        "element and its data type."
      ],
      "metadata": {
        "id": "jwjtuInnLvP9"
      }
    },
    {
      "cell_type": "code",
      "source": [
        "#creating a list from user input:\n",
        "list_length=int(input(\"please enter the length of your list:\"))\n",
        "#Now let's create an empty list:\n",
        "Our_list=[]\n",
        "for i in range(list_length):\n",
        "  data = input(\"Enter data point #{}: \".format(i+1))\n",
        "  Our_list.append(data)\n",
        "print(\"Now our list is:\")\n",
        "print(Our_list)\n",
        "for i in Our_list:\n",
        "  print(\"item\",i,\"has type=\",type(i))"
      ],
      "metadata": {
        "colab": {
          "base_uri": "https://localhost:8080/"
        },
        "id": "_z7PueGhSw8d",
        "outputId": "36e29257-357d-4b77-b0f5-063592e7b703"
      },
      "execution_count": 5,
      "outputs": [
        {
          "output_type": "stream",
          "name": "stdout",
          "text": [
            "please enter the length of your list:10\n",
            "Enter data point #1: 5\n",
            "Enter data point #2: 6\n",
            "Enter data point #3: 7\n",
            "Enter data point #4: 8\n",
            "Enter data point #5: 2\n",
            "Enter data point #6: 3\n",
            "Enter data point #7: 9\n",
            "Enter data point #8: 11\n",
            "Enter data point #9: 1\n",
            "Enter data point #10: 7\n",
            "Now our list is:\n",
            "['5', '6', '7', '8', '2', '3', '9', '11', '1', '7']\n",
            "item 5 has type= <class 'str'>\n",
            "item 6 has type= <class 'str'>\n",
            "item 7 has type= <class 'str'>\n",
            "item 8 has type= <class 'str'>\n",
            "item 2 has type= <class 'str'>\n",
            "item 3 has type= <class 'str'>\n",
            "item 9 has type= <class 'str'>\n",
            "item 11 has type= <class 'str'>\n",
            "item 1 has type= <class 'str'>\n",
            "item 7 has type= <class 'str'>\n"
          ]
        }
      ]
    },
    {
      "cell_type": "markdown",
      "source": [
        "Q5. Using a while loop, verify if the number A is purely divisible by number B and if so then how many\n",
        "times it can be divisible."
      ],
      "metadata": {
        "id": "yQrshP1TP2bm"
      }
    },
    {
      "cell_type": "code",
      "source": [
        "A=int(input(\"Enter the dividend(A):\"))\n",
        "B=int(input(\"Enter the dividend(B):\"))\n",
        "\n",
        "#Now we want see how many times we can divide\n",
        "#so we have to keep a count of it\n",
        "count=0\n",
        "\n",
        "while (A%B==0):\n",
        "  print(\"After dividing \",A,\" by \",B)\n",
        "  A=A//B # A is divided by B\n",
        "  print(\"we get:\",A)\n",
        "  count+=1\n",
        "\n",
        "if count>0:\n",
        "  print(\"A is divisible by B\")\n",
        "  print(\"We can divide A by B ,\",count,\"times\")\n",
        "else:\n",
        "  print(\"A is Not divisible by B\")\n"
      ],
      "metadata": {
        "colab": {
          "base_uri": "https://localhost:8080/"
        },
        "id": "lpJiC0ohWZm1",
        "outputId": "abad97a6-28b7-4546-b06c-d3dd3622ca7d"
      },
      "execution_count": 6,
      "outputs": [
        {
          "output_type": "stream",
          "name": "stdout",
          "text": [
            "Enter the dividend(A):20\n",
            "Enter the dividend(B):4\n",
            "After dividing  20  by  4\n",
            "we get: 5\n",
            "A is divisible by B\n",
            "We can divide A by B , 1 times\n"
          ]
        }
      ]
    },
    {
      "cell_type": "markdown",
      "source": [
        "Q6. Create a list containing 25 int type data. Using for loop and if-else condition print if the element is\n",
        "divisible by 3 or not."
      ],
      "metadata": {
        "id": "k1_dn7bdP7hM"
      }
    },
    {
      "cell_type": "code",
      "source": [
        "4num_elements = int(input(\"Enter the number of elements: \"))\n",
        "\n",
        "# Creating an empty list:\n",
        "user_list = []\n",
        "\n",
        "for i in range(num_elements):\n",
        "\n",
        "  #The variable valid_input is used to track whether the user has entered a valid input.\n",
        "  valid_input = False\n",
        "  #initially, we assume that the user has not provided a valid input until proven otherwise.\n",
        "  #This allows us to control the flow of the program and ensure that only integer values are accepted.\n",
        "\n",
        "  #The__ \"while not valid_input\"__construct is a while loop that continues until the user enters a valid input.\n",
        "  # Once the user enters a valid input (an integer), valid_input is set to True, and the loop is exited.\n",
        "  while not valid_input:\n",
        "    value = input(\"Enter element #{}: \".format(i+1))\n",
        "    if value.isdigit():\n",
        "      user_list.append(int(value))\n",
        "      valid_input = True\n",
        "    else:\n",
        "      print(\"Wrong input! Please enter an integer.\")\n",
        "\n",
        "print(\"List of integer values:\", user_list)\n",
        "\n",
        "for i in user_list:\n",
        "  if (i%3==0):\n",
        "    print(i,\" is divisible by 3\")\n",
        "  else:\n",
        "    print(i,\" is not divisible by 3\")"
      ],
      "metadata": {
        "colab": {
          "base_uri": "https://localhost:8080/"
        },
        "id": "MDbr4D0AZLdT",
        "outputId": "7de08ded-2633-4474-da6b-ae573ac696b6"
      },
      "execution_count": 8,
      "outputs": [
        {
          "output_type": "stream",
          "name": "stdout",
          "text": [
            "Enter the number of elements: 25\n",
            "Enter element #1: 1\n",
            "Enter element #2: 2\n",
            "Enter element #3: 3\n",
            "Enter element #4: 4\n",
            "Enter element #5: 5\n",
            "Enter element #6: 6\n",
            "Enter element #7: 7\n",
            "Enter element #8: 8\n",
            "Enter element #9: 9\n",
            "Enter element #10: 10\n",
            "Enter element #11: 11\n",
            "Enter element #12: 12\n",
            "Enter element #13: 13\n",
            "Enter element #14: 14\n",
            "Enter element #15: 15\n",
            "Enter element #16: 16\n",
            "Enter element #17: 31\n",
            "Enter element #18: 32\n",
            "Enter element #19: 33\n",
            "Enter element #20: 34\n",
            "Enter element #21: 35\n",
            "Enter element #22: 36\n",
            "Enter element #23: 37\n",
            "Enter element #24: 38\n",
            "Enter element #25: 39\n",
            "List of integer values: [1, 2, 3, 4, 5, 6, 7, 8, 9, 10, 11, 12, 13, 14, 15, 16, 31, 32, 33, 34, 35, 36, 37, 38, 39]\n",
            "1  is not divisible by 3\n",
            "2  is not divisible by 3\n",
            "3  is divisible by 3\n",
            "4  is not divisible by 3\n",
            "5  is not divisible by 3\n",
            "6  is divisible by 3\n",
            "7  is not divisible by 3\n",
            "8  is not divisible by 3\n",
            "9  is divisible by 3\n",
            "10  is not divisible by 3\n",
            "11  is not divisible by 3\n",
            "12  is divisible by 3\n",
            "13  is not divisible by 3\n",
            "14  is not divisible by 3\n",
            "15  is divisible by 3\n",
            "16  is not divisible by 3\n",
            "31  is not divisible by 3\n",
            "32  is not divisible by 3\n",
            "33  is divisible by 3\n",
            "34  is not divisible by 3\n",
            "35  is not divisible by 3\n",
            "36  is divisible by 3\n",
            "37  is not divisible by 3\n",
            "38  is not divisible by 3\n",
            "39  is divisible by 3\n"
          ]
        }
      ]
    },
    {
      "cell_type": "markdown",
      "source": [
        "Q7. What do you understand about mutable and immutable data types? Give examples for both showing this property."
      ],
      "metadata": {
        "id": "5QxWmHbGP_X6"
      }
    },
    {
      "cell_type": "code",
      "source": [
        "# mutable data types are those that can be modified after they are created.\n",
        "my_list=[1,2,3]\n",
        "my_list[0]=7\n",
        "print(my_list)\n",
        "#Immutable data types are those whose values cannot be changed after they are created.\n",
        "my_tuple = (1, 2, 3)\n",
        "my_tuple[0] = 4  # This will raise an error since tuples are immutable\n",
        "print(my_tuple)"
      ],
      "metadata": {
        "colab": {
          "base_uri": "https://localhost:8080/",
          "height": 246
        },
        "id": "32h4llT-i1v_",
        "outputId": "d3f39f21-4925-49f4-fff2-7cc05294b137"
      },
      "execution_count": 9,
      "outputs": [
        {
          "output_type": "stream",
          "name": "stdout",
          "text": [
            "[7, 2, 3]\n"
          ]
        },
        {
          "output_type": "error",
          "ename": "TypeError",
          "evalue": "ignored",
          "traceback": [
            "\u001b[0;31m---------------------------------------------------------------------------\u001b[0m",
            "\u001b[0;31mTypeError\u001b[0m                                 Traceback (most recent call last)",
            "\u001b[0;32m<ipython-input-9-e8c5a4f90d6b>\u001b[0m in \u001b[0;36m<cell line: 7>\u001b[0;34m()\u001b[0m\n\u001b[1;32m      5\u001b[0m \u001b[0;31m#Immutable data types are those whose values cannot be changed after they are created.\u001b[0m\u001b[0;34m\u001b[0m\u001b[0;34m\u001b[0m\u001b[0m\n\u001b[1;32m      6\u001b[0m \u001b[0mmy_tuple\u001b[0m \u001b[0;34m=\u001b[0m \u001b[0;34m(\u001b[0m\u001b[0;36m1\u001b[0m\u001b[0;34m,\u001b[0m \u001b[0;36m2\u001b[0m\u001b[0;34m,\u001b[0m \u001b[0;36m3\u001b[0m\u001b[0;34m)\u001b[0m\u001b[0;34m\u001b[0m\u001b[0;34m\u001b[0m\u001b[0m\n\u001b[0;32m----> 7\u001b[0;31m \u001b[0mmy_tuple\u001b[0m\u001b[0;34m[\u001b[0m\u001b[0;36m0\u001b[0m\u001b[0;34m]\u001b[0m \u001b[0;34m=\u001b[0m \u001b[0;36m4\u001b[0m  \u001b[0;31m# This will raise an error since tuples are immutable\u001b[0m\u001b[0;34m\u001b[0m\u001b[0;34m\u001b[0m\u001b[0m\n\u001b[0m\u001b[1;32m      8\u001b[0m \u001b[0mprint\u001b[0m\u001b[0;34m(\u001b[0m\u001b[0mmy_tuple\u001b[0m\u001b[0;34m)\u001b[0m\u001b[0;34m\u001b[0m\u001b[0;34m\u001b[0m\u001b[0m\n",
            "\u001b[0;31mTypeError\u001b[0m: 'tuple' object does not support item assignment"
          ]
        }
      ]
    }
  ]
}